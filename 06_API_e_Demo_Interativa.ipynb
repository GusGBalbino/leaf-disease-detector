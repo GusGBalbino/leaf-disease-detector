{
 "cells": [
  {
   "cell_type": "markdown",
   "metadata": {},
   "source": [
    "### Objetivo: Criar interface e demonstração do sistema\n",
    "\n",
    "Conteúdo:\n",
    "\n",
    "- Prototipagem da API (código Flask/FastAPI)\n",
    "- Interface interativa no notebook (upload de imagens)\n",
    "- Demonstração ao vivo do sistema\n",
    "- Testes com imagens externas\n",
    "- Análise de tempo de resposta"
   ]
  },
  {
   "cell_type": "markdown",
   "metadata": {},
   "source": []
  }
 ],
 "metadata": {
  "language_info": {
   "name": "python"
  }
 },
 "nbformat": 4,
 "nbformat_minor": 2
}
