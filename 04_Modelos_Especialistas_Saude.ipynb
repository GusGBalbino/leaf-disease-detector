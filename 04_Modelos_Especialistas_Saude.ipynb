{
 "cells": [
  {
   "cell_type": "markdown",
   "metadata": {},
   "source": [
    "### Objetivo: Desenvolver os 3 modelos especialistas de saúde\n",
    "\n",
    "Conteúdo:\n",
    "- Para cada espécie (Tomate, Batata, Pimentão):\n",
    "- Filtração dos dados específicos\n",
    "- Arquitetura e treinamento do modelo especialista\n",
    "- Avaliação individual de performance\n",
    "- Análise de classes difíceis de distinguir\n",
    "- Comparação entre especialistas\n",
    "- Salvamento de todos os modelos"
   ]
  },
  {
   "cell_type": "code",
   "execution_count": 12,
   "metadata": {},
   "outputs": [
    {
     "name": "stdout",
     "output_type": "stream",
     "text": [
      "Found 11207 validated image filenames belonging to 10 classes.\n",
      "Found 2402 validated image filenames belonging to 10 classes.\n",
      "Found 2402 validated image filenames belonging to 10 classes.\n",
      "Found 1506 validated image filenames belonging to 3 classes.\n",
      "Found 323 validated image filenames belonging to 3 classes.\n",
      "Found 323 validated image filenames belonging to 3 classes.\n",
      "Found 1731 validated image filenames belonging to 2 classes.\n",
      "Found 372 validated image filenames belonging to 2 classes.\n",
      "Found 372 validated image filenames belonging to 2 classes.\n",
      "\n",
      "🍅 Dataset de Tomato carregado:\n",
      "- Train: 11207 imagens\n",
      "\n",
      "-Val: 2402 imagens\n",
      "\n",
      "-Test: 2402 imagens\n",
      "\n",
      "🥔 Dataset de Potato carregado:\n",
      "- Train: 1506 imagens\n",
      "\n",
      "- Val: 323 imagens\n",
      "\n",
      "- Test: 323 imagens\n",
      "\n",
      "🫑 Dataset de Pepper carregado:\n",
      "- Train: 1731 imagens\n",
      "\n",
      "- Val: 372 imagens\n",
      "\n",
      "- Test: 372 imagens\n"
     ]
    }
   ],
   "source": [
    "#Carregar dados para modelos especialistas em cada espécie\n",
    "from utils import *\n",
    "\n",
    "# Carregar configurações\n",
    "config = carregar_configuracoes()\n",
    "dataset_tomato = carregar_dataset_especialista('Tomato')\n",
    "dataset_potato = carregar_dataset_especialista('Potato')\n",
    "dataset_pepper_bell = carregar_dataset_especialista('Pepper_bell')\n",
    "\n",
    "train_gen_tomato, val_gen_tomato, test_gen_tomato = criar_geradores(dataset_tomato, config)\n",
    "train_gen_potato, val_gen_potato, test_gen_potato = criar_geradores(dataset_potato, config)\n",
    "train_gen_pepper, val_gen_pepper, test_gen_pepper = criar_geradores(dataset_pepper_bell, config)\n",
    "\n",
    "\n",
    "\n",
    "print(f\"\\n🍅 Dataset de Tomato carregado:\")\n",
    "print(f\"- Train: {len(dataset_tomato['train']['X'])} imagens\")\n",
    "print(f\"\\n-Val: {len(dataset_tomato['val']['X'])} imagens\")\n",
    "print(f\"\\n-Test: {len(dataset_tomato['test']['X'])} imagens\")\n",
    "\n",
    "print(f\"\\n🥔 Dataset de Potato carregado:\")\n",
    "print(f\"- Train: {len(dataset_potato['train']['X'])} imagens\")\n",
    "print(f\"\\n- Val: {len(dataset_potato['val']['X'])} imagens\")\n",
    "print(f\"\\n- Test: {len(dataset_potato['test']['X'])} imagens\")\n",
    "\n",
    "print(f\"\\n🫑 Dataset de Pepper carregado:\")\n",
    "print(f\"- Train: {len(dataset_pepper_bell['train']['X'])} imagens\")\n",
    "print(f\"\\n- Val: {len(dataset_pepper_bell['val']['X'])} imagens\")\n",
    "print(f\"\\n- Test: {len(dataset_pepper_bell['test']['X'])} imagens\")\n",
    "\n",
    "\n",
    "\n",
    "\n",
    "# Carregar label encoders se necessário\n",
    "label_encoder_especies = carregar_label_encoder('especies')\n",
    "label_encoder_tomato = carregar_label_encoder('especialista', 'Tomato')\n",
    "label_encoder_potato = carregar_label_encoder('especialista', 'Potato')\n",
    "label_encoder_pepper = carregar_label_encoder('especialista', 'Pepper_bell')"
   ]
  },
  {
   "cell_type": "code",
   "execution_count": null,
   "metadata": {},
   "outputs": [],
   "source": []
  }
 ],
 "metadata": {
  "kernelspec": {
   "display_name": "tf-gpu-env",
   "language": "python",
   "name": "python3"
  },
  "language_info": {
   "codemirror_mode": {
    "name": "ipython",
    "version": 3
   },
   "file_extension": ".py",
   "mimetype": "text/x-python",
   "name": "python",
   "nbconvert_exporter": "python",
   "pygments_lexer": "ipython3",
   "version": "3.10.14"
  }
 },
 "nbformat": 4,
 "nbformat_minor": 2
}
