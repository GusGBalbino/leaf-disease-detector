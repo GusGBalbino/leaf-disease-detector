{
 "cells": [
  {
   "cell_type": "markdown",
   "metadata": {},
   "source": [
    "### Objetivo: Desenvolver e treinar o Modelo 1 (Species Classifier)\n",
    "\n",
    "Conteúdo:\n",
    "- Preparação específica dos dados de espécies\n",
    "- Arquitetura do modelo (Transfer Learning)\n",
    "- Treinamento e validação\n",
    "- Análise de performance (confusion matrix, métricas)\n",
    "- Salvamento do modelo treinado\n",
    "- Análise de erros e interpretabilidade"
   ]
  },
  {
   "cell_type": "code",
   "execution_count": null,
   "metadata": {},
   "outputs": [
    {
     "name": "stdout",
     "output_type": "stream",
     "text": [
      "✅ Configurações carregadas:\n",
      "  📏 Image size: 224x224\n",
      "  📦 Batch size: 32\n",
      "Found 14446 validated image filenames belonging to 3 classes.\n",
      "Found 3096 validated image filenames belonging to 3 classes.\n",
      "Found 3096 validated image filenames belonging to 3 classes.\n",
      "🌿 Dataset de espécies carregado:\n",
      "  Train: 14446 imagens\n",
      "  Val: 3096 imagens\n"
     ]
    }
   ],
   "source": [
    "#Carregar dados para modelo classificador de espécies\n",
    "\n",
    "from utils import *\n",
    "\n",
    "# Carregar configurações\n",
    "config = carregar_configuracoes()\n",
    "print(f\"✅ Configurações carregadas:\")\n",
    "print(f\"  📏 Image size: {config['img_height']}x{config['img_width']}\")\n",
    "print(f\"  📦 Batch size: {config['batch_size']}\")\n",
    "\n",
    "dataset_especies = carregar_dataset_especies()\n",
    "train_gen, val_gen, test_gen = criar_geradores(dataset_especies, config)\n",
    "\n",
    "print(f\"🌿 Dataset de espécies carregado:\")\n",
    "print(f\"  Train: {len(dataset_especies['train']['X'])} imagens\")\n",
    "print(f\"  Val: {len(dataset_especies['val']['X'])} imagens\")"
   ]
  }
 ],
 "metadata": {
  "kernelspec": {
   "display_name": "tf-gpu-env",
   "language": "python",
   "name": "python3"
  },
  "language_info": {
   "codemirror_mode": {
    "name": "ipython",
    "version": 3
   },
   "file_extension": ".py",
   "mimetype": "text/x-python",
   "name": "python",
   "nbconvert_exporter": "python",
   "pygments_lexer": "ipython3",
   "version": "3.10.14"
  }
 },
 "nbformat": 4,
 "nbformat_minor": 2
}
